{
  "nbformat": 4,
  "nbformat_minor": 0,
  "metadata": {
    "colab": {
      "name": "fdp_mnist_conv.ipynb",
      "version": "0.3.2",
      "provenance": [],
      "collapsed_sections": [],
      "include_colab_link": true
    },
    "kernelspec": {
      "name": "python3",
      "display_name": "Python 3"
    }
  },
  "cells": [
    {
      "cell_type": "markdown",
      "metadata": {
        "id": "view-in-github",
        "colab_type": "text"
      },
      "source": [
        "<a href=\"https://colab.research.google.com/github/nrjcs/mlip/blob/master/d4/fdp_mnist_conv.ipynb\" target=\"_parent\"><img src=\"https://colab.research.google.com/assets/colab-badge.svg\" alt=\"Open In Colab\"/></a>"
      ]
    },
    {
      "cell_type": "markdown",
      "metadata": {
        "id": "fRycwUb2gVtN",
        "colab_type": "text"
      },
      "source": [
        "\n",
        "#  keras mnist digit classification with convolution neural network  #\n",
        "\n",
        "\n",
        "---\n",
        "\n",
        "\n",
        "> similar example @ https://keras.io/examples/mnist_cnn/"
      ]
    },
    {
      "cell_type": "code",
      "metadata": {
        "id": "_kjTsII0qfuL",
        "colab_type": "code",
        "outputId": "40acf7d7-9a5b-41fa-a371-ebacb25088d7",
        "colab": {
          "base_uri": "https://localhost:8080/",
          "height": 86
        }
      },
      "source": [
        "#Load the dataset => as in the case of FCNN\n",
        " \n",
        "from keras.datasets import mnist\n",
        "\n",
        "(X_train, Y_train), (X_test, Y_test) = mnist.load_data() \t#Keras function\n",
        "\n",
        "print (\"mnist data downloaded...\")\n"
      ],
      "execution_count": 0,
      "outputs": [
        {
          "output_type": "stream",
          "text": [
            "Using TensorFlow backend.\n"
          ],
          "name": "stderr"
        },
        {
          "output_type": "stream",
          "text": [
            "Downloading data from https://s3.amazonaws.com/img-datasets/mnist.npz\n",
            "11493376/11490434 [==============================] - 1s 0us/step\n",
            "mnist data downloaded...\n"
          ],
          "name": "stdout"
        }
      ]
    },
    {
      "cell_type": "markdown",
      "metadata": {
        "id": "uPNKn_cKgrVS",
        "colab_type": "text"
      },
      "source": [
        "> refer to # https://keras.io/datasets/#mnist-database-of-handwritten-digits for more details"
      ]
    },
    {
      "cell_type": "code",
      "metadata": {
        "id": "3CwHiVn9sonK",
        "colab_type": "code",
        "outputId": "5fb42eac-7621-42c4-96d2-0821d1d7dd6b",
        "colab": {
          "base_uri": "https://localhost:8080/",
          "height": 269
        }
      },
      "source": [
        "# this code cell is for visualization of data only...may be skipped\n",
        "import matplotlib.pyplot as plt\n",
        "\n",
        "# plot images...subplot function is being used...nice documentation is available on the official webpage of matplotlib\n",
        "# arguments to subplot functions are number of rows, number of columns and number of subplots in the plot...comma is mandatory if values are less than 10\n",
        "plt.subplot(221)\t\n",
        "plt.imshow(X_train[50], cmap=plt.get_cmap('gray')) # ploting first image of training data set\n",
        "plt.subplot(222)\n",
        "plt.imshow(X_train[1304], cmap=plt.get_cmap('gray'))\t# ploting 135th image in training data set\n",
        "plt.subplot(223)\n",
        "plt.imshow(X_test[244], cmap=plt.get_cmap('gray'))\t# ploting 2445th image of test date set\n",
        "plt.subplot(224)\n",
        "plt.imshow(X_test[39], cmap=plt.get_cmap('gray'))\t# ploting 4th image of test data set\n",
        "# show the plot\n",
        "plt.show()\n"
      ],
      "execution_count": 0,
      "outputs": [
        {
          "output_type": "display_data",
          "data": {
            "image/png": "[encoded data removed]",
            "text/plain": [
              "<Figure size 432x288 with 4 Axes>"
            ]
          },
          "metadata": {
            "tags": []
          }
        }
      ]
    },
    {
      "cell_type": "code",
      "metadata": {
        "id": "1PetdwiQsDjq",
        "colab_type": "code",
        "outputId": "610c6ae7-38b1-42f1-e79f-d5741a46714c",
        "colab": {
          "base_uri": "https://localhost:8080/",
          "height": 34
        }
      },
      "source": [
        "# Print shape of dataset..it will print three tuples, namely the no. of images in dataset, height and width(60000, 28, 28)\n",
        "\n",
        "print (X_train.shape)"
      ],
      "execution_count": 0,
      "outputs": [
        {
          "output_type": "stream",
          "text": [
            "(60000, 28, 28)\n"
          ],
          "name": "stdout"
        }
      ]
    },
    {
      "cell_type": "code",
      "metadata": {
        "id": "8yMtIFlycEVH",
        "colab_type": "code",
        "outputId": "815d5aee-51b2-415b-e7c2-85b1a5d05063",
        "colab": {
          "base_uri": "https://localhost:8080/",
          "height": 34
        }
      },
      "source": [
        "print (Y_train.shape)"
      ],
      "execution_count": 0,
      "outputs": [
        {
          "output_type": "stream",
          "text": [
            "(60000,)\n"
          ],
          "name": "stdout"
        }
      ]
    },
    {
      "cell_type": "code",
      "metadata": {
        "id": "2xwxGQy2sFIc",
        "colab_type": "code",
        "outputId": "81ce1785-5594-49c5-844a-f600f3050a4c",
        "colab": {
          "base_uri": "https://localhost:8080/",
          "height": 156
        }
      },
      "source": [
        "# defining some parameters\n",
        "rows, cols = 28,28\n",
        "\n",
        "# data preprocessing\n",
        "#reshaping the data...Normalize images\n",
        "X_train = X_train.reshape(60000,28,28,1)\n",
        "X_test = X_test.reshape(10000,28,28,1)\n",
        "X_train = X_train.astype('float32')\n",
        "X_test = X_test.astype('float32')\n",
        "X_train /= 255\n",
        "X_test /= 255\n",
        "\n",
        "print('X_train shape:', X_train.shape)\n",
        "print('X_test shape:', X_test.shape)\n",
        "print(X_train.shape[0], 'training samples')\n",
        "print(X_test.shape[0], 'test samples')\n",
        "\n",
        "input_shape = (rows, cols, 1)\n",
        "num_classes = 10 # number of classess for classification \n",
        "\n",
        "print (Y_train.shape)\n",
        "print (Y_train[0])\n",
        "\n",
        "import keras.utils\n",
        "#Convert class vectors to binary class matrices\n",
        "Y_train = keras.utils.to_categorical(Y_train, num_classes)\n",
        "Y_test = keras.utils.to_categorical(Y_test, num_classes)\n",
        "\n",
        "print (Y_train.shape)\n",
        "print (Y_train[0])"
      ],
      "execution_count": 0,
      "outputs": [
        {
          "output_type": "stream",
          "text": [
            "X_train shape: (60000, 28, 28, 1)\n",
            "X_test shape: (10000, 28, 28, 1)\n",
            "60000 training samples\n",
            "10000 test samples\n",
            "(60000,)\n",
            "5\n",
            "(60000, 10)\n",
            "[0. 0. 0. 0. 0. 1. 0. 0. 0. 0.]\n"
          ],
          "name": "stdout"
        }
      ]
    },
    {
      "cell_type": "markdown",
      "metadata": {
        "id": "AH9sybo1U1uL",
        "colab_type": "text"
      },
      "source": [
        "**for reference reproducing from https://keras.io/layers/convolutional/**\n",
        "\n",
        "> keras.layers.Conv2D(filters, kernel_size, strides=(1, 1), padding='valid', \n",
        "\n",
        "> > activation=None, use_bias=True, kernel_initializer='glorot_uniform', bias_initializer='zeros', ..... )\n",
        "  \n",
        "> creates a convolution kernel that is convolved with the layer input to produce a tensor of outputs. \n",
        "\n",
        "> If use_bias is True, a bias vector is created and added to the outputs. \n",
        "\n",
        "> Finally, if activation is not None, it is applied to the outputs as well.\n",
        "\n",
        "> if first layer, provide the keyword argument input_shape e.g. input_shape=(128, 128, 3) for 128x128 RGB\n",
        "\n",
        "> filters: Integer, the dimensionality of the output space (i.e. the number of output filters in the convolution).\n",
        "\n",
        "> kernel_size: An integer or tuple/list of 2 integers, specifying the height and width of the 2D convolution window. \n",
        "\n",
        "> > Can be a single integer to specify the same value for all spatial dimensions.\n",
        "    \n",
        "> strides: An integer or tuple/list of 2 integers, specifying the strides of the convolution along the height and width. \n",
        "\n",
        "> > Can be a single integer to specify the same value for all spatial dimensions.\n",
        "\n",
        "> padding: one of \"valid\" or \"same\" (case-insensitive).\n",
        "\n",
        "> activation: Activation function to use. If you don't specify anything, no activation is applied (ie. \"linear\" activation: a(x) = x).\n",
        "\n",
        "> use_bias: Boolean, whether the layer uses a bias vector.\n",
        "\n",
        "> kernel_initializer: Initializer for the kernel weights matrix.\n",
        "\n",
        "> bias_initializer: Initializer for the bias vector.\n",
        "\n",
        "> filters and kernel_size parameters are compulsory\n",
        "\n",
        "\n",
        "\n",
        "**MaxPooling2D reproduced from https://keras.io/layers/pooling/** \n",
        "\n",
        "> keras.layers.MaxPooling2D(pool_size=(2, 2), strides=None, padding='valid', data_format=None)\n",
        "\n",
        "> pool_size: integer or tuple of 2 integers, factors by which to downscale (vertical, horizontal). \n",
        "\n",
        "> > If only one integer is specified, the same window length will be used for both dimensions.\n",
        "\n",
        "> strides: Integer, tuple of 2 integers, or None. Strides values. If None, it will default to pool_size.\n",
        "\n",
        "> padding: One of \"valid\" or \"same\"\n",
        "\n",
        "> data_format: A string, one of channels_last (default) or channels_first. The ordering of the dimensions in the inputs.  channels_last\n",
        "        > >  corresponds to inputs with shape  (batch, height, width, channels) while channels_first corresponds to inputs with shape  \n",
        "        > >  (batch, channels, height, width). It defaults to the image_data_format value found in your Keras config file at \n",
        "        > >  ~/.keras/keras.json. If you never set it, then it will be \"channels_last\".\n"
      ]
    },
    {
      "cell_type": "code",
      "metadata": {
        "id": "FtPgp5lStzjk",
        "colab_type": "code",
        "outputId": "35833091-6558-459f-9b2a-74885048a66b",
        "colab": {
          "base_uri": "https://localhost:8080/",
          "height": 211
        }
      },
      "source": [
        "# Define model architecture\n",
        "\n",
        "from keras.models import Sequential\n",
        "from keras.layers import Dense, Dropout, Flatten\n",
        "from keras.layers import Conv2D, MaxPooling2D\n",
        "\n",
        "model = Sequential()\n",
        "\n",
        "#arch 1\n",
        "model.add(Conv2D(32, kernel_size=(3, 3), activation='relu', input_shape=input_shape))\n",
        "model.add(Conv2D(64, (3, 3), activation='relu'))\n",
        "model.add(MaxPooling2D(pool_size=(2, 2)))\n",
        "model.add(Flatten()) #Flattens the input\n",
        "model.add(Dense(num_classes, activation='softmax'))\n",
        "\n",
        "# another architecture...you may experiment with the following architecture\n",
        "#arch 2\n",
        "#model.add(Conv2D(32, kernel_size=(3, 3), activation='relu', input_shape=input_shape))\n",
        "#model.add(Conv2D(64, (3, 3), activation='relu'))\n",
        "#model.add(MaxPooling2D(pool_size=(2, 2)))\n",
        "#model.add(Dropout(0.25))\n",
        "#model.add(Flatten()) # Flattens the input\n",
        "#model.add(Dense(128, activation='relu'))\n",
        "#model.add(Dropout(0.5))\n",
        "#model.add(Dense(num_classes, activation='softmax'))\n",
        "\n",
        "print (\"keep going...\")"
      ],
      "execution_count": 0,
      "outputs": [
        {
          "output_type": "stream",
          "text": [
            "WARNING: Logging before flag parsing goes to stderr.\n",
            "W0705 06:39:23.529793 139709784151936 deprecation_wrapper.py:119] From /usr/local/lib/python3.6/dist-packages/keras/backend/tensorflow_backend.py:74: The name tf.get_default_graph is deprecated. Please use tf.compat.v1.get_default_graph instead.\n",
            "\n",
            "W0705 06:39:23.568300 139709784151936 deprecation_wrapper.py:119] From /usr/local/lib/python3.6/dist-packages/keras/backend/tensorflow_backend.py:517: The name tf.placeholder is deprecated. Please use tf.compat.v1.placeholder instead.\n",
            "\n",
            "W0705 06:39:23.575517 139709784151936 deprecation_wrapper.py:119] From /usr/local/lib/python3.6/dist-packages/keras/backend/tensorflow_backend.py:4138: The name tf.random_uniform is deprecated. Please use tf.random.uniform instead.\n",
            "\n",
            "W0705 06:39:23.633065 139709784151936 deprecation_wrapper.py:119] From /usr/local/lib/python3.6/dist-packages/keras/backend/tensorflow_backend.py:3976: The name tf.nn.max_pool is deprecated. Please use tf.nn.max_pool2d instead.\n",
            "\n"
          ],
          "name": "stderr"
        },
        {
          "output_type": "stream",
          "text": [
            "keep going...\n"
          ],
          "name": "stdout"
        }
      ]
    },
    {
      "cell_type": "code",
      "metadata": {
        "id": "kl0RQYZyuHE1",
        "colab_type": "code",
        "outputId": "008b5972-eb00-4fe0-a7c2-eeae05265064",
        "colab": {
          "base_uri": "https://localhost:8080/",
          "height": 124
        }
      },
      "source": [
        "# compiling model\n",
        "\n",
        "model.compile(loss=keras.losses.categorical_crossentropy, optimizer=keras.optimizers.Adadelta(), metrics=['accuracy'])\n",
        "\n",
        "print (\"compile successful...\")"
      ],
      "execution_count": 0,
      "outputs": [
        {
          "output_type": "stream",
          "text": [
            "W0705 06:39:23.691733 139709784151936 deprecation_wrapper.py:119] From /usr/local/lib/python3.6/dist-packages/keras/optimizers.py:790: The name tf.train.Optimizer is deprecated. Please use tf.compat.v1.train.Optimizer instead.\n",
            "\n",
            "W0705 06:39:23.701816 139709784151936 deprecation_wrapper.py:119] From /usr/local/lib/python3.6/dist-packages/keras/backend/tensorflow_backend.py:3295: The name tf.log is deprecated. Please use tf.math.log instead.\n",
            "\n"
          ],
          "name": "stderr"
        },
        {
          "output_type": "stream",
          "text": [
            "compile successful...\n"
          ],
          "name": "stdout"
        }
      ]
    },
    {
      "cell_type": "code",
      "metadata": {
        "id": "dRCZOEUmuKCD",
        "colab_type": "code",
        "outputId": "7cb50bf3-0119-45ad-f0d7-d05399bd909b",
        "colab": {
          "base_uri": "https://localhost:8080/",
          "height": 853
        }
      },
      "source": [
        "batch_size = 128\n",
        "epochs = 20\n",
        "\n",
        "# taining the network\n",
        "\n",
        "history=model.fit(X_train, Y_train, batch_size=batch_size, epochs=epochs, verbose=1, validation_split=0.2)\n",
        "\n",
        "print (\"training done...\")\n"
      ],
      "execution_count": 0,
      "outputs": [
        {
          "output_type": "stream",
          "text": [
            "W0705 06:39:23.860558 139709784151936 deprecation.py:323] From /usr/local/lib/python3.6/dist-packages/tensorflow/python/ops/math_grad.py:1250: add_dispatch_support.<locals>.wrapper (from tensorflow.python.ops.array_ops) is deprecated and will be removed in a future version.\n",
            "Instructions for updating:\n",
            "Use tf.where in 2.0, which has the same broadcast rule as np.where\n",
            "W0705 06:39:24.076640 139709784151936 deprecation_wrapper.py:119] From /usr/local/lib/python3.6/dist-packages/keras/backend/tensorflow_backend.py:986: The name tf.assign_add is deprecated. Please use tf.compat.v1.assign_add instead.\n",
            "\n"
          ],
          "name": "stderr"
        },
        {
          "output_type": "stream",
          "text": [
            "Train on 48000 samples, validate on 12000 samples\n",
            "Epoch 1/20\n",
            "48000/48000 [==============================] - 109s 2ms/step - loss: 0.2669 - acc: 0.9202 - val_loss: 0.0871 - val_acc: 0.9766\n",
            "Epoch 2/20\n",
            "48000/48000 [==============================] - 107s 2ms/step - loss: 0.0722 - acc: 0.9789 - val_loss: 0.0633 - val_acc: 0.9802\n",
            "Epoch 3/20\n",
            "48000/48000 [==============================] - 107s 2ms/step - loss: 0.0517 - acc: 0.9841 - val_loss: 0.0568 - val_acc: 0.9833\n",
            "Epoch 4/20\n",
            "48000/48000 [==============================] - 107s 2ms/step - loss: 0.0411 - acc: 0.9873 - val_loss: 0.0540 - val_acc: 0.9852\n",
            "Epoch 5/20\n",
            "48000/48000 [==============================] - 107s 2ms/step - loss: 0.0349 - acc: 0.9891 - val_loss: 0.0475 - val_acc: 0.9862\n",
            "Epoch 6/20\n",
            "48000/48000 [==============================] - 107s 2ms/step - loss: 0.0284 - acc: 0.9920 - val_loss: 0.0465 - val_acc: 0.9865\n",
            "Epoch 7/20\n",
            "48000/48000 [==============================] - 107s 2ms/step - loss: 0.0242 - acc: 0.9933 - val_loss: 0.0480 - val_acc: 0.9868\n",
            "Epoch 8/20\n",
            "48000/48000 [==============================] - 106s 2ms/step - loss: 0.0208 - acc: 0.9939 - val_loss: 0.0480 - val_acc: 0.9867\n",
            "Epoch 9/20\n",
            "48000/48000 [==============================] - 106s 2ms/step - loss: 0.0178 - acc: 0.9952 - val_loss: 0.0494 - val_acc: 0.9862\n",
            "Epoch 10/20\n",
            "48000/48000 [==============================] - 106s 2ms/step - loss: 0.0155 - acc: 0.9955 - val_loss: 0.0502 - val_acc: 0.9867\n",
            "Epoch 11/20\n",
            "48000/48000 [==============================] - 106s 2ms/step - loss: 0.0133 - acc: 0.9963 - val_loss: 0.0506 - val_acc: 0.9872\n",
            "Epoch 12/20\n",
            "48000/48000 [==============================] - 106s 2ms/step - loss: 0.0112 - acc: 0.9969 - val_loss: 0.0529 - val_acc: 0.9867\n",
            "Epoch 13/20\n",
            "48000/48000 [==============================] - 107s 2ms/step - loss: 0.0095 - acc: 0.9974 - val_loss: 0.0542 - val_acc: 0.9859\n",
            "Epoch 14/20\n",
            "48000/48000 [==============================] - 106s 2ms/step - loss: 0.0081 - acc: 0.9981 - val_loss: 0.0554 - val_acc: 0.9861\n",
            "Epoch 15/20\n",
            "48000/48000 [==============================] - 107s 2ms/step - loss: 0.0066 - acc: 0.9984 - val_loss: 0.0558 - val_acc: 0.9872\n",
            "Epoch 16/20\n",
            "48000/48000 [==============================] - 107s 2ms/step - loss: 0.0055 - acc: 0.9987 - val_loss: 0.0576 - val_acc: 0.9865\n",
            "Epoch 17/20\n",
            "48000/48000 [==============================] - 107s 2ms/step - loss: 0.0047 - acc: 0.9988 - val_loss: 0.0606 - val_acc: 0.9872\n",
            "Epoch 18/20\n",
            "48000/48000 [==============================] - 107s 2ms/step - loss: 0.0040 - acc: 0.9990 - val_loss: 0.0605 - val_acc: 0.9868\n",
            "Epoch 19/20\n",
            "48000/48000 [==============================] - 107s 2ms/step - loss: 0.0032 - acc: 0.9992 - val_loss: 0.0607 - val_acc: 0.9869\n",
            "Epoch 20/20\n",
            "48000/48000 [==============================] - 106s 2ms/step - loss: 0.0025 - acc: 0.9995 - val_loss: 0.0657 - val_acc: 0.9872\n",
            "training done...\n"
          ],
          "name": "stdout"
        }
      ]
    },
    {
      "cell_type": "code",
      "metadata": {
        "id": "lEmU2ZbBuT5M",
        "colab_type": "code",
        "outputId": "91d8ea7a-df3f-4777-fbfb-b97f0b98376d",
        "colab": {
          "base_uri": "https://localhost:8080/",
          "height": 69
        }
      },
      "source": [
        "# evaluating the model\n",
        "\n",
        "score = model.evaluate(X_test, Y_test, verbose=1)\n",
        "print('loss:', score[0])\n",
        "print('accuracy:', score[1])"
      ],
      "execution_count": 0,
      "outputs": [
        {
          "output_type": "stream",
          "text": [
            "10000/10000 [==============================] - 7s 654us/step\n",
            "loss: 0.05020759639829039\n",
            "accuracy: 0.9887\n"
          ],
          "name": "stdout"
        }
      ]
    },
    {
      "cell_type": "code",
      "metadata": {
        "id": "Mrs155-xiIDI",
        "colab_type": "code",
        "outputId": "91f1219c-1af7-4d41-e8e5-2dca57266928",
        "colab": {
          "base_uri": "https://localhost:8080/",
          "height": 34
        }
      },
      "source": [
        "#printing metrices\n",
        "print (model.metrics_names)"
      ],
      "execution_count": 0,
      "outputs": [
        {
          "output_type": "stream",
          "text": [
            "['loss', 'acc']\n"
          ],
          "name": "stdout"
        }
      ]
    },
    {
      "cell_type": "code",
      "metadata": {
        "id": "npPQMD752vA9",
        "colab_type": "code",
        "outputId": "674412fb-2555-4798-8df8-4c777558d76a",
        "colab": {
          "base_uri": "https://localhost:8080/",
          "height": 330
        }
      },
      "source": [
        "# print model summary\n",
        "print(model.summary())"
      ],
      "execution_count": 0,
      "outputs": [
        {
          "output_type": "stream",
          "text": [
            "_________________________________________________________________\n",
            "Layer (type)                 Output Shape              Param #   \n",
            "=================================================================\n",
            "conv2d_1 (Conv2D)            (None, 26, 26, 32)        320       \n",
            "_________________________________________________________________\n",
            "conv2d_2 (Conv2D)            (None, 24, 24, 64)        18496     \n",
            "_________________________________________________________________\n",
            "max_pooling2d_1 (MaxPooling2 (None, 12, 12, 64)        0         \n",
            "_________________________________________________________________\n",
            "flatten_1 (Flatten)          (None, 9216)              0         \n",
            "_________________________________________________________________\n",
            "dense_1 (Dense)              (None, 10)                92170     \n",
            "=================================================================\n",
            "Total params: 110,986\n",
            "Trainable params: 110,986\n",
            "Non-trainable params: 0\n",
            "_________________________________________________________________\n",
            "None\n"
          ],
          "name": "stdout"
        }
      ]
    },
    {
      "cell_type": "code",
      "metadata": {
        "id": "LdB0OsTOeDga",
        "colab_type": "code",
        "outputId": "ef02b0ca-b5e2-4c5c-cef9-d349c770c673",
        "colab": {
          "base_uri": "https://localhost:8080/",
          "height": 590
        }
      },
      "source": [
        "# to visualize the performance with plots...plot loss and accuracy in training and validation \n",
        "import matplotlib.pyplot as plt\n",
        "# list all data in history\n",
        "print(history.history.keys())\n",
        "# summarize history for accuracy\n",
        "plt.plot(history.history['acc'])\n",
        "plt.plot(history.history['val_acc'])\n",
        "plt.title('model accuracy')\n",
        "plt.ylabel('accuracy')\n",
        "plt.xlabel('epoch')\n",
        "plt.legend(['training', 'validation'], loc='center right')\n",
        "plt.show()\n",
        "# summarize history for loss\n",
        "plt.plot(history.history['loss'])\n",
        "plt.plot(history.history['val_loss'])\n",
        "plt.title('model loss')\n",
        "plt.ylabel('loss')\n",
        "plt.xlabel('epoch')\n",
        "plt.legend(['training', 'validation'], loc='upper right')\n",
        "plt.show()"
      ],
      "execution_count": 0,
      "outputs": [
        {
          "output_type": "stream",
          "text": [
            "dict_keys(['val_loss', 'val_acc', 'loss', 'acc'])\n"
          ],
          "name": "stdout"
        },
        {
          "output_type": "display_data",
          "data": {
            "image/png": "[encoded data removed]",
            "text/plain": [
              "<Figure size 432x288 with 1 Axes>"
            ]
          },
          "metadata": {
            "tags": []
          }
        },
        {
          "output_type": "display_data",
          "data": {
            "image/png": "[encoded data removed]",
            "text/plain": [
              "<Figure size 432x288 with 1 Axes>"
            ]
          },
          "metadata": {
            "tags": []
          }
        }
      ]
    },
    {
      "cell_type": "markdown",
      "metadata": {
        "id": "YLuTzBk7-K3w",
        "colab_type": "text"
      },
      "source": [
        " Improving Performance\n",
        " \n",
        " > Different architecture (such as provided in code)\n",
        " \n",
        ">  Number of layers\n",
        "\n",
        "> Different layers: dropout etc.\n",
        "\n",
        "> Different hperparameters: number of filters, stride, and padding\n",
        "\n",
        "> Different learning rate for optimizer\n",
        "\n",
        "> batch size\n",
        "\n",
        "> with different optimizers\n",
        "\n",
        "> with more number of epochs\n",
        "\n",
        "> Controlling the optimizer learning rate\n",
        "\n",
        "> Increasing the size of batch computation\n",
        "\n",
        "\n",
        "\n",
        "\n"
      ]
    }
  ]
}