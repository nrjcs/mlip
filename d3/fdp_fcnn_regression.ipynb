{
  "nbformat": 4,
  "nbformat_minor": 0,
  "metadata": {
    "colab": {
      "name": "fdp_fcnn_regression.ipynb",
      "version": "0.3.2",
      "provenance": [],
      "include_colab_link": true
    },
    "kernelspec": {
      "name": "python3",
      "display_name": "Python 3"
    }
  },
  "cells": [
    {
      "cell_type": "markdown",
      "metadata": {
        "id": "view-in-github",
        "colab_type": "text"
      },
      "source": [
        "<a href=\"https://colab.research.google.com/github/nrjcs/mlip/blob/master/d3/fdp_fcnn_regression.ipynb\" target=\"_parent\"><img src=\"https://colab.research.google.com/assets/colab-badge.svg\" alt=\"Open In Colab\"/></a>"
      ]
    },
    {
      "cell_type": "markdown",
      "metadata": {
        "id": "qcH7iIA1QSs7",
        "colab_type": "text"
      },
      "source": [
        "# Keras Regression Example \n",
        " > Boston housing price prediction"
      ]
    },
    {
      "cell_type": "markdown",
      "metadata": {
        "id": "jYWuTF_SQ12n",
        "colab_type": "text"
      },
      "source": [
        "*   dataset being used in this example is Boston housing price regression dataset\n",
        "*   in-built support available in Keras for \n",
        "\n",
        "> for details refer to https://keras.io/datasets/#boston-housing-price-regression-dataset"
      ]
    },
    {
      "cell_type": "code",
      "metadata": {
        "id": "ocKTURp2QhK_",
        "colab_type": "code",
        "colab": {
          "base_uri": "https://localhost:8080/",
          "height": 52
        },
        "outputId": "3e73ec4c-78d0-43bc-9b03-8cb5ec0fef32"
      },
      "source": [
        "# import dataset....\n",
        "from keras.datasets import boston_housing\n",
        "\n",
        "(X_train, y_train), (X_test, y_test) = boston_housing.load_data()\n",
        "\n",
        "print (\"dataset imported...\")"
      ],
      "execution_count": 1,
      "outputs": [
        {
          "output_type": "stream",
          "text": [
            "Using TensorFlow backend.\n"
          ],
          "name": "stderr"
        },
        {
          "output_type": "stream",
          "text": [
            "dataset imported...\n"
          ],
          "name": "stdout"
        }
      ]
    },
    {
      "cell_type": "code",
      "metadata": {
        "id": "qM2_4xPdaMd9",
        "colab_type": "code",
        "colab": {
          "base_uri": "https://localhost:8080/",
          "height": 121
        },
        "outputId": "2d7ce737-40da-4216-959f-db02f7250875"
      },
      "source": [
        "print (X_train[0])\n",
        "\n",
        "print (y_train[0])\n",
        "\n",
        "print (X_test[0])\n",
        "\n",
        "print (y_test[0])\n"
      ],
      "execution_count": 2,
      "outputs": [
        {
          "output_type": "stream",
          "text": [
            "[  1.23247   0.        8.14      0.        0.538     6.142    91.7\n",
            "   3.9769    4.      307.       21.      396.9      18.72   ]\n",
            "15.2\n",
            "[ 18.0846   0.      18.1      0.       0.679    6.434  100.       1.8347\n",
            "  24.     666.      20.2     27.25    29.05  ]\n",
            "7.2\n"
          ],
          "name": "stdout"
        }
      ]
    },
    {
      "cell_type": "code",
      "metadata": {
        "id": "pmoKGi6ARV0f",
        "colab_type": "code",
        "colab": {
          "base_uri": "https://localhost:8080/",
          "height": 176
        },
        "outputId": "9ffc25a0-67d5-42b9-bc1b-ed66d8ef4124"
      },
      "source": [
        "# creating model\n",
        "from keras.models import Sequential\n",
        "from keras.layers import Activation, Dense\n",
        "\n",
        "# a sequential model\n",
        "model = Sequential()\n",
        "\n",
        "# first layer input shape is 13 due to the 13 attributes of houses in the dataset\n",
        "model.add(Dense(20, input_shape = (13,), activation='sigmoid'))\n",
        "model.add(Dense(20, activation='sigmoid')) # only output shape is required for the layers other than first\n",
        "model.add(Dense(20, activation='sigmoid'))\n",
        "model.add(Dense(1)) # for regression problem...ultimately predicting a number, thus output dimension is 1\n",
        "\n",
        "print (\"keep going...\")"
      ],
      "execution_count": 3,
      "outputs": [
        {
          "output_type": "stream",
          "text": [
            "WARNING: Logging before flag parsing goes to stderr.\n",
            "W0724 06:25:59.702298 140684247340928 deprecation_wrapper.py:119] From /usr/local/lib/python3.6/dist-packages/keras/backend/tensorflow_backend.py:74: The name tf.get_default_graph is deprecated. Please use tf.compat.v1.get_default_graph instead.\n",
            "\n",
            "W0724 06:25:59.722354 140684247340928 deprecation_wrapper.py:119] From /usr/local/lib/python3.6/dist-packages/keras/backend/tensorflow_backend.py:517: The name tf.placeholder is deprecated. Please use tf.compat.v1.placeholder instead.\n",
            "\n",
            "W0724 06:25:59.725561 140684247340928 deprecation_wrapper.py:119] From /usr/local/lib/python3.6/dist-packages/keras/backend/tensorflow_backend.py:4138: The name tf.random_uniform is deprecated. Please use tf.random.uniform instead.\n",
            "\n"
          ],
          "name": "stderr"
        },
        {
          "output_type": "stream",
          "text": [
            "keep going...\n"
          ],
          "name": "stdout"
        }
      ]
    },
    {
      "cell_type": "code",
      "metadata": {
        "id": "MlT07YQaRpbO",
        "colab_type": "code",
        "colab": {
          "base_uri": "https://localhost:8080/",
          "height": 89
        },
        "outputId": "749b69bf-ef04-4d28-ca85-6a81d5701a7f"
      },
      "source": [
        "# compile the model\n",
        "\n",
        "# using sgd as the optimizer \n",
        "# mse is the loss function, which is more common for regression problems\n",
        "model.compile(optimizer = 'sgd', loss = 'mean_squared_error', metrics = ['mse'])\n",
        "\n",
        "print (\"Compilation done ...\")"
      ],
      "execution_count": 4,
      "outputs": [
        {
          "output_type": "stream",
          "text": [
            "W0724 06:25:59.788910 140684247340928 deprecation_wrapper.py:119] From /usr/local/lib/python3.6/dist-packages/keras/optimizers.py:790: The name tf.train.Optimizer is deprecated. Please use tf.compat.v1.train.Optimizer instead.\n",
            "\n"
          ],
          "name": "stderr"
        },
        {
          "output_type": "stream",
          "text": [
            "Compilation done ...\n"
          ],
          "name": "stdout"
        }
      ]
    },
    {
      "cell_type": "code",
      "metadata": {
        "id": "PEOvmNqOXnjS",
        "colab_type": "code",
        "colab": {
          "base_uri": "https://localhost:8080/",
          "height": 34
        },
        "outputId": "59d23c2c-a7d6-4b78-ee74-cdf2fb3a1768"
      },
      "source": [
        "print(model.metrics_names)"
      ],
      "execution_count": 5,
      "outputs": [
        {
          "output_type": "stream",
          "text": [
            "['loss', 'mean_squared_error']\n"
          ],
          "name": "stdout"
        }
      ]
    },
    {
      "cell_type": "code",
      "metadata": {
        "id": "_rsjXDLgSWqY",
        "colab_type": "code",
        "colab": {
          "base_uri": "https://localhost:8080/",
          "height": 819
        },
        "outputId": "4114ecd6-5729-4a74-af37-f80fbec34a37"
      },
      "source": [
        "# fit the model\n",
        "\n",
        "model.fit(X_train, y_train, batch_size = 10, epochs = 20, verbose = 1)"
      ],
      "execution_count": 6,
      "outputs": [
        {
          "output_type": "stream",
          "text": [
            "W0724 06:25:59.955985 140684247340928 deprecation_wrapper.py:119] From /usr/local/lib/python3.6/dist-packages/keras/backend/tensorflow_backend.py:986: The name tf.assign_add is deprecated. Please use tf.compat.v1.assign_add instead.\n",
            "\n",
            "W0724 06:25:59.989315 140684247340928 deprecation_wrapper.py:119] From /usr/local/lib/python3.6/dist-packages/keras/backend/tensorflow_backend.py:973: The name tf.assign is deprecated. Please use tf.compat.v1.assign instead.\n",
            "\n"
          ],
          "name": "stderr"
        },
        {
          "output_type": "stream",
          "text": [
            "Epoch 1/20\n",
            "404/404 [==============================] - 0s 493us/step - loss: 117.3734 - mean_squared_error: 117.3734\n",
            "Epoch 2/20\n",
            "404/404 [==============================] - 0s 107us/step - loss: 86.3200 - mean_squared_error: 86.3200\n",
            "Epoch 3/20\n",
            "404/404 [==============================] - 0s 112us/step - loss: 87.4871 - mean_squared_error: 87.4871\n",
            "Epoch 4/20\n",
            "404/404 [==============================] - 0s 107us/step - loss: 86.4391 - mean_squared_error: 86.4391\n",
            "Epoch 5/20\n",
            "404/404 [==============================] - 0s 108us/step - loss: 86.4483 - mean_squared_error: 86.4483\n",
            "Epoch 6/20\n",
            "404/404 [==============================] - 0s 106us/step - loss: 85.9461 - mean_squared_error: 85.9461\n",
            "Epoch 7/20\n",
            "404/404 [==============================] - 0s 108us/step - loss: 85.8808 - mean_squared_error: 85.8808\n",
            "Epoch 8/20\n",
            "404/404 [==============================] - 0s 109us/step - loss: 88.2429 - mean_squared_error: 88.2429\n",
            "Epoch 9/20\n",
            "404/404 [==============================] - 0s 103us/step - loss: 86.5019 - mean_squared_error: 86.5019\n",
            "Epoch 10/20\n",
            "404/404 [==============================] - 0s 113us/step - loss: 85.8288 - mean_squared_error: 85.8288\n",
            "Epoch 11/20\n",
            "404/404 [==============================] - 0s 106us/step - loss: 85.5486 - mean_squared_error: 85.5486\n",
            "Epoch 12/20\n",
            "404/404 [==============================] - 0s 101us/step - loss: 85.7928 - mean_squared_error: 85.7928\n",
            "Epoch 13/20\n",
            "404/404 [==============================] - 0s 109us/step - loss: 87.2305 - mean_squared_error: 87.2305\n",
            "Epoch 14/20\n",
            "404/404 [==============================] - 0s 116us/step - loss: 87.0831 - mean_squared_error: 87.0831\n",
            "Epoch 15/20\n",
            "404/404 [==============================] - 0s 117us/step - loss: 85.9770 - mean_squared_error: 85.9770\n",
            "Epoch 16/20\n",
            "404/404 [==============================] - 0s 112us/step - loss: 86.8867 - mean_squared_error: 86.8867\n",
            "Epoch 17/20\n",
            "404/404 [==============================] - 0s 111us/step - loss: 86.8549 - mean_squared_error: 86.8549\n",
            "Epoch 18/20\n",
            "404/404 [==============================] - 0s 113us/step - loss: 85.6242 - mean_squared_error: 85.6242\n",
            "Epoch 19/20\n",
            "404/404 [==============================] - 0s 114us/step - loss: 86.0651 - mean_squared_error: 86.0651\n",
            "Epoch 20/20\n",
            "404/404 [==============================] - 0s 106us/step - loss: 86.2962 - mean_squared_error: 86.2962\n"
          ],
          "name": "stdout"
        },
        {
          "output_type": "execute_result",
          "data": {
            "text/plain": [
              "<keras.callbacks.History at 0x7ff3777077f0>"
            ]
          },
          "metadata": {
            "tags": []
          },
          "execution_count": 6
        }
      ]
    },
    {
      "cell_type": "code",
      "metadata": {
        "id": "p7wRgVHYSdO7",
        "colab_type": "code",
        "colab": {
          "base_uri": "https://localhost:8080/",
          "height": 34
        },
        "outputId": "8755174b-1edc-4498-83ee-6bd432a1afc3"
      },
      "source": [
        "# evaluate the model\n",
        "\n",
        "results = model.evaluate(X_test, y_test)"
      ],
      "execution_count": 7,
      "outputs": [
        {
          "output_type": "stream",
          "text": [
            "102/102 [==============================] - 0s 266us/step\n"
          ],
          "name": "stdout"
        }
      ]
    },
    {
      "cell_type": "code",
      "metadata": {
        "id": "Mdadi1x8Sgxm",
        "colab_type": "code",
        "colab": {
          "base_uri": "https://localhost:8080/",
          "height": 52
        },
        "outputId": "4719b9de-cd34-46df-e381-00624b23ed4e"
      },
      "source": [
        "print('loss: ', results[0])\n",
        "print('mse: ', results[1])"
      ],
      "execution_count": 8,
      "outputs": [
        {
          "output_type": "stream",
          "text": [
            "loss:  85.28880369896983\n",
            "mse:  85.28880369896983\n"
          ],
          "name": "stdout"
        }
      ]
    },
    {
      "cell_type": "code",
      "metadata": {
        "id": "gtq1ARI8gjut",
        "colab_type": "code",
        "colab": {
          "base_uri": "https://localhost:8080/",
          "height": 278
        },
        "outputId": "46bab87d-f213-4844-b2ba-9dbc45c8a213"
      },
      "source": [
        "model.summary()"
      ],
      "execution_count": 9,
      "outputs": [
        {
          "output_type": "stream",
          "text": [
            "_________________________________________________________________\n",
            "Layer (type)                 Output Shape              Param #   \n",
            "=================================================================\n",
            "dense_1 (Dense)              (None, 20)                280       \n",
            "_________________________________________________________________\n",
            "dense_2 (Dense)              (None, 20)                420       \n",
            "_________________________________________________________________\n",
            "dense_3 (Dense)              (None, 20)                420       \n",
            "_________________________________________________________________\n",
            "dense_4 (Dense)              (None, 1)                 21        \n",
            "=================================================================\n",
            "Total params: 1,141\n",
            "Trainable params: 1,141\n",
            "Non-trainable params: 0\n",
            "_________________________________________________________________\n"
          ],
          "name": "stdout"
        }
      ]
    },
    {
      "cell_type": "code",
      "metadata": {
        "id": "aEJFT2uvgfB5",
        "colab_type": "code",
        "colab": {
          "base_uri": "https://localhost:8080/",
          "height": 52
        },
        "outputId": "8ad50229-05d4-4e04-9279-acc3cefe9351"
      },
      "source": [
        "# print the predicted value\n",
        "y_predicted = model.predict(X_test)\n",
        "print(\"X=%s, y=%s, Predicted=%s\" % (X_test[0], y_test[0], y_predicted[0]))\n",
        "\n",
        "# show the inputs and predicted outputs\n",
        "#for i in range(len(X_test)):\n",
        "#\tprint(\"X=%s, y=%s, Predicted=%s\" % (X_test[i], y_test[i], y_predicted[i]))"
      ],
      "execution_count": 10,
      "outputs": [
        {
          "output_type": "stream",
          "text": [
            "X=[ 18.0846   0.      18.1      0.       0.679    6.434  100.       1.8347\n",
            "  24.     666.      20.2     27.25    29.05  ], y=7.2, Predicted=[21.648396]\n"
          ],
          "name": "stdout"
        }
      ]
    }
  ]
}